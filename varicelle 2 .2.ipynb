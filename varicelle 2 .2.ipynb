{
 "cells": [
  {
   "cell_type": "markdown",
   "metadata": {},
   "source": [
    "# Simulation 1 varicelle"
   ]
  },
  {
   "cell_type": "code",
   "execution_count": 1,
   "metadata": {
    "collapsed": true
   },
   "outputs": [],
   "source": [
    "import numpy as np\n",
    "import matplotlib.pyplot as plt"
   ]
  },
  {
   "cell_type": "markdown",
   "metadata": {},
   "source": [
    "### Initialisation du système"
   ]
  },
  {
   "cell_type": "code",
   "execution_count": 3,
   "metadata": {
    "collapsed": false
   },
   "outputs": [
    {
     "name": "stdout",
     "output_type": "stream",
     "text": [
      "[[ 0.  0.  0.  0.  0.]\n",
      " [ 0.  0.  0.  0.  0.]\n",
      " [ 0.  0.  0.  0.  0.]\n",
      " [ 0.  0.  0.  0.  0.]\n",
      " [ 0.  0.  0.  0.  0.]]\n"
     ]
    }
   ],
   "source": [
    "eleves = np.zeros([5,5])\n",
    "print (eleves)"
   ]
  },
  {
   "cell_type": "markdown",
   "metadata": {},
   "source": [
    "**On a une matrice de 25 éléments représentant une classe de 25 élèves. Les 0 désignent les élèves sains**"
   ]
  },
  {
   "cell_type": "markdown",
   "metadata": {},
   "source": [
    "### Simulation"
   ]
  },
  {
   "cell_type": "markdown",
   "metadata": {},
   "source": [
    "**Le modèle est simple**: Un élève malade est représenté par l'élément 1. \n",
    "    On va d'abord prendre un élève au hasard et dire qu'il est malade. A chaque itération un autre tombe malade au hasard. On admet que cela est causé par la rencontre entre l'élève initalement malade et un autre élève quelconque de la classe. Dans la simulation, on se rend compte que parfois le nombre de malades ne change pas : c'est parce que la position d'un enfant déjà malade a été tirée. On admet alors qu'à cette itération il n'y a pas eu d'intéractions entre un malade et un sain."
   ]
  },
  {
   "cell_type": "code",
   "execution_count": 4,
   "metadata": {
    "collapsed": true
   },
   "outputs": [],
   "source": [
    "def positions():\n",
    "    position=[]#liste de positions\n",
    "    \n",
    "    for i in range(5):\n",
    "        for j in range(5):\n",
    "            position.append([i,j])\n",
    "            np.random.shuffle(position)\n",
    "    return (position[0])\n",
    "    \n",
    "    "
   ]
  },
  {
   "cell_type": "code",
   "execution_count": 5,
   "metadata": {
    "collapsed": false
   },
   "outputs": [
    {
     "data": {
      "text/plain": [
       "array([0, 1])"
      ]
     },
     "execution_count": 5,
     "metadata": {},
     "output_type": "execute_result"
    }
   ],
   "source": [
    "np.random.randint(5,size=2)"
   ]
  },
  {
   "cell_type": "code",
   "execution_count": 6,
   "metadata": {
    "collapsed": false
   },
   "outputs": [
    {
     "data": {
      "text/plain": [
       "[3, 0]"
      ]
     },
     "execution_count": 6,
     "metadata": {},
     "output_type": "execute_result"
    }
   ],
   "source": [
    "positions()"
   ]
  },
  {
   "cell_type": "code",
   "execution_count": 7,
   "metadata": {
    "collapsed": true
   },
   "outputs": [],
   "source": [
    "def premier_etat():\n",
    "    position=positions()\n",
    "    k=position[0]\n",
    "    l=position[1]\n",
    "    eleves[k][l]=1\n",
    "    return (eleves, position)\n"
   ]
  },
  {
   "cell_type": "code",
   "execution_count": 8,
   "metadata": {
    "collapsed": false
   },
   "outputs": [
    {
     "data": {
      "text/plain": [
       "(array([[ 0.,  0.,  0.,  0.,  0.],\n",
       "        [ 0.,  0.,  0.,  0.,  0.],\n",
       "        [ 0.,  0.,  0.,  1.,  0.],\n",
       "        [ 0.,  0.,  0.,  0.,  0.],\n",
       "        [ 0.,  0.,  0.,  0.,  0.]]), [2, 3])"
      ]
     },
     "execution_count": 8,
     "metadata": {},
     "output_type": "execute_result"
    }
   ],
   "source": [
    "premier_etat()\n"
   ]
  },
  {
   "cell_type": "markdown",
   "metadata": {},
   "source": [
    "Dans cet exemple, au bout de la 50ème itération, **20 enfants sur 25** ont attrapé la varicelle."
   ]
  },
  {
   "cell_type": "code",
   "execution_count": 9,
   "metadata": {
    "collapsed": true
   },
   "outputs": [],
   "source": [
    "def simulation():\n",
    "    x=0\n",
    "    while (x<25):\n",
    "        new_premier_etat=premier_etat()\n",
    "        print(new_premier_etat)\n",
    "        x+=1\n",
    "    return(new_premier_etat)\n",
    "        "
   ]
  },
  {
   "cell_type": "code",
   "execution_count": 10,
   "metadata": {
    "collapsed": false
   },
   "outputs": [
    {
     "name": "stdout",
     "output_type": "stream",
     "text": [
      "(array([[ 0.,  0.,  0.,  0.,  1.],\n",
      "       [ 0.,  0.,  0.,  0.,  0.],\n",
      "       [ 0.,  0.,  0.,  1.,  0.],\n",
      "       [ 0.,  0.,  0.,  0.,  0.],\n",
      "       [ 0.,  0.,  0.,  0.,  0.]]), [0, 4])\n",
      "(array([[ 0.,  0.,  0.,  0.,  1.],\n",
      "       [ 0.,  0.,  0.,  0.,  0.],\n",
      "       [ 0.,  0.,  0.,  1.,  0.],\n",
      "       [ 0.,  0.,  0.,  0.,  0.],\n",
      "       [ 0.,  0.,  0.,  0.,  0.]]), [0, 4])\n",
      "(array([[ 0.,  0.,  0.,  0.,  1.],\n",
      "       [ 0.,  0.,  0.,  0.,  0.],\n",
      "       [ 0.,  0.,  0.,  1.,  0.],\n",
      "       [ 0.,  0.,  0.,  0.,  0.],\n",
      "       [ 0.,  0.,  0.,  0.,  0.]]), [0, 4])\n",
      "(array([[ 0.,  0.,  0.,  1.,  1.],\n",
      "       [ 0.,  0.,  0.,  0.,  0.],\n",
      "       [ 0.,  0.,  0.,  1.,  0.],\n",
      "       [ 0.,  0.,  0.,  0.,  0.],\n",
      "       [ 0.,  0.,  0.,  0.,  0.]]), [0, 3])\n",
      "(array([[ 0.,  0.,  0.,  1.,  1.],\n",
      "       [ 0.,  0.,  0.,  0.,  0.],\n",
      "       [ 0.,  0.,  0.,  1.,  0.],\n",
      "       [ 1.,  0.,  0.,  0.,  0.],\n",
      "       [ 0.,  0.,  0.,  0.,  0.]]), [3, 0])\n",
      "(array([[ 0.,  0.,  0.,  1.,  1.],\n",
      "       [ 0.,  0.,  0.,  0.,  0.],\n",
      "       [ 0.,  0.,  0.,  1.,  0.],\n",
      "       [ 1.,  0.,  0.,  0.,  0.],\n",
      "       [ 1.,  0.,  0.,  0.,  0.]]), [4, 0])\n",
      "(array([[ 0.,  0.,  0.,  1.,  1.],\n",
      "       [ 0.,  0.,  0.,  0.,  0.],\n",
      "       [ 0.,  0.,  0.,  1.,  0.],\n",
      "       [ 1.,  0.,  0.,  0.,  0.],\n",
      "       [ 1.,  0.,  0.,  1.,  0.]]), [4, 3])\n",
      "(array([[ 0.,  0.,  0.,  1.,  1.],\n",
      "       [ 0.,  0.,  0.,  0.,  0.],\n",
      "       [ 0.,  0.,  0.,  1.,  0.],\n",
      "       [ 1.,  0.,  0.,  0.,  0.],\n",
      "       [ 1.,  1.,  0.,  1.,  0.]]), [4, 1])\n",
      "(array([[ 0.,  0.,  0.,  1.,  1.],\n",
      "       [ 0.,  0.,  0.,  1.,  0.],\n",
      "       [ 0.,  0.,  0.,  1.,  0.],\n",
      "       [ 1.,  0.,  0.,  0.,  0.],\n",
      "       [ 1.,  1.,  0.,  1.,  0.]]), [1, 3])\n",
      "(array([[ 0.,  0.,  0.,  1.,  1.],\n",
      "       [ 0.,  0.,  0.,  1.,  1.],\n",
      "       [ 0.,  0.,  0.,  1.,  0.],\n",
      "       [ 1.,  0.,  0.,  0.,  0.],\n",
      "       [ 1.,  1.,  0.,  1.,  0.]]), [1, 4])\n",
      "(array([[ 0.,  0.,  0.,  1.,  1.],\n",
      "       [ 0.,  0.,  0.,  1.,  1.],\n",
      "       [ 0.,  0.,  0.,  1.,  0.],\n",
      "       [ 1.,  0.,  0.,  0.,  0.],\n",
      "       [ 1.,  1.,  0.,  1.,  0.]]), [2, 3])\n",
      "(array([[ 0.,  0.,  0.,  1.,  1.],\n",
      "       [ 1.,  0.,  0.,  1.,  1.],\n",
      "       [ 0.,  0.,  0.,  1.,  0.],\n",
      "       [ 1.,  0.,  0.,  0.,  0.],\n",
      "       [ 1.,  1.,  0.,  1.,  0.]]), [1, 0])\n",
      "(array([[ 0.,  1.,  0.,  1.,  1.],\n",
      "       [ 1.,  0.,  0.,  1.,  1.],\n",
      "       [ 0.,  0.,  0.,  1.,  0.],\n",
      "       [ 1.,  0.,  0.,  0.,  0.],\n",
      "       [ 1.,  1.,  0.,  1.,  0.]]), [0, 1])\n",
      "(array([[ 0.,  1.,  0.,  1.,  1.],\n",
      "       [ 1.,  0.,  0.,  1.,  1.],\n",
      "       [ 0.,  0.,  0.,  1.,  0.],\n",
      "       [ 1.,  0.,  0.,  0.,  0.],\n",
      "       [ 1.,  1.,  0.,  1.,  0.]]), [4, 3])\n",
      "(array([[ 0.,  1.,  0.,  1.,  1.],\n",
      "       [ 1.,  0.,  0.,  1.,  1.],\n",
      "       [ 0.,  0.,  0.,  1.,  0.],\n",
      "       [ 1.,  1.,  0.,  0.,  0.],\n",
      "       [ 1.,  1.,  0.,  1.,  0.]]), [3, 1])\n",
      "(array([[ 0.,  1.,  0.,  1.,  1.],\n",
      "       [ 1.,  0.,  0.,  1.,  1.],\n",
      "       [ 0.,  0.,  0.,  1.,  1.],\n",
      "       [ 1.,  1.,  0.,  0.,  0.],\n",
      "       [ 1.,  1.,  0.,  1.,  0.]]), [2, 4])\n",
      "(array([[ 0.,  1.,  0.,  1.,  1.],\n",
      "       [ 1.,  0.,  0.,  1.,  1.],\n",
      "       [ 0.,  0.,  0.,  1.,  1.],\n",
      "       [ 1.,  1.,  0.,  0.,  0.],\n",
      "       [ 1.,  1.,  0.,  1.,  0.]]), [4, 1])\n",
      "(array([[ 0.,  1.,  0.,  1.,  1.],\n",
      "       [ 1.,  0.,  0.,  1.,  1.],\n",
      "       [ 0.,  0.,  0.,  1.,  1.],\n",
      "       [ 1.,  1.,  0.,  0.,  0.],\n",
      "       [ 1.,  1.,  0.,  1.,  0.]]), [3, 0])\n",
      "(array([[ 0.,  1.,  0.,  1.,  1.],\n",
      "       [ 1.,  0.,  0.,  1.,  1.],\n",
      "       [ 0.,  0.,  0.,  1.,  1.],\n",
      "       [ 1.,  1.,  0.,  0.,  0.],\n",
      "       [ 1.,  1.,  0.,  1.,  0.]]), [2, 4])\n",
      "(array([[ 0.,  1.,  0.,  1.,  1.],\n",
      "       [ 1.,  0.,  0.,  1.,  1.],\n",
      "       [ 0.,  0.,  0.,  1.,  1.],\n",
      "       [ 1.,  1.,  0.,  0.,  0.],\n",
      "       [ 1.,  1.,  0.,  1.,  0.]]), [4, 3])\n",
      "(array([[ 0.,  1.,  0.,  1.,  1.],\n",
      "       [ 1.,  0.,  0.,  1.,  1.],\n",
      "       [ 0.,  0.,  0.,  1.,  1.],\n",
      "       [ 1.,  1.,  0.,  0.,  0.],\n",
      "       [ 1.,  1.,  0.,  1.,  0.]]), [4, 1])\n",
      "(array([[ 0.,  1.,  0.,  1.,  1.],\n",
      "       [ 1.,  0.,  0.,  1.,  1.],\n",
      "       [ 0.,  0.,  0.,  1.,  1.],\n",
      "       [ 1.,  1.,  0.,  0.,  0.],\n",
      "       [ 1.,  1.,  0.,  1.,  0.]]), [3, 0])\n",
      "(array([[ 0.,  1.,  0.,  1.,  1.],\n",
      "       [ 1.,  0.,  0.,  1.,  1.],\n",
      "       [ 0.,  0.,  0.,  1.,  1.],\n",
      "       [ 1.,  1.,  0.,  0.,  0.],\n",
      "       [ 1.,  1.,  0.,  1.,  0.]]), [4, 0])\n",
      "(array([[ 0.,  1.,  0.,  1.,  1.],\n",
      "       [ 1.,  0.,  0.,  1.,  1.],\n",
      "       [ 0.,  0.,  0.,  1.,  1.],\n",
      "       [ 1.,  1.,  0.,  0.,  1.],\n",
      "       [ 1.,  1.,  0.,  1.,  0.]]), [3, 4])\n",
      "(array([[ 0.,  1.,  0.,  1.,  1.],\n",
      "       [ 1.,  0.,  0.,  1.,  1.],\n",
      "       [ 0.,  0.,  0.,  1.,  1.],\n",
      "       [ 1.,  1.,  0.,  0.,  1.],\n",
      "       [ 1.,  1.,  0.,  1.,  0.]]), [1, 3])\n"
     ]
    },
    {
     "data": {
      "text/plain": [
       "(array([[ 0.,  1.,  0.,  1.,  1.],\n",
       "        [ 1.,  0.,  0.,  1.,  1.],\n",
       "        [ 0.,  0.,  0.,  1.,  1.],\n",
       "        [ 1.,  1.,  0.,  0.,  1.],\n",
       "        [ 1.,  1.,  0.,  1.,  0.]]), [1, 3])"
      ]
     },
     "execution_count": 10,
     "metadata": {},
     "output_type": "execute_result"
    }
   ],
   "source": [
    "simulation()"
   ]
  },
  {
   "cell_type": "code",
   "execution_count": 11,
   "metadata": {
    "collapsed": false
   },
   "outputs": [
    {
     "name": "stdout",
     "output_type": "stream",
     "text": [
      "[[ 0.  0.  0.  0.  0.  0.  0.]\n",
      " [ 0.  0.  0.  0.  0.  0.  0.]\n",
      " [ 0.  0.  0.  0.  0.  0.  0.]\n",
      " [ 0.  0.  0.  0.  0.  0.  0.]\n",
      " [ 0.  0.  0.  0.  0.  0.  0.]\n",
      " [ 0.  0.  0.  0.  0.  0.  0.]\n",
      " [ 0.  0.  0.  0.  0.  0.  0.]]\n"
     ]
    }
   ],
   "source": [
    "matrice = np.zeros([7,7])\n",
    "print (matrice)"
   ]
  },
  {
   "cell_type": "code",
   "execution_count": 84,
   "metadata": {
    "collapsed": false
   },
   "outputs": [
    {
     "name": "stdout",
     "output_type": "stream",
     "text": [
      "[[ 1.  1.  1.  1.  1.  1.  1.]\n",
      " [ 1.  1.  1.  1.  1.  1.  1.]\n",
      " [ 1.  1.  1.  1.  1.  1.  1.]\n",
      " [ 1.  1.  1.  1.  1.  1.  1.]\n",
      " [ 1.  1.  1.  1.  1.  1.  1.]\n",
      " [ 1.  1.  1.  1.  1.  1.  1.]\n",
      " [ 1.  1.  1.  1.  1.  1.  1.]]\n"
     ]
    }
   ],
   "source": [
    "matrice = np.ones([7,7])\n",
    "print (matrice)"
   ]
  },
  {
   "cell_type": "code",
   "execution_count": 28,
   "metadata": {
    "collapsed": true
   },
   "outputs": [],
   "source": [
    "def pos():\n",
    "    position=[]#liste de positions\n",
    "    \n",
    "    for i in range(7):\n",
    "        for j in range(7):\n",
    "            position.append([i,j])\n",
    "            np.random.shuffle(position)\n",
    "    return (position)"
   ]
  },
  {
   "cell_type": "code",
   "execution_count": 29,
   "metadata": {
    "collapsed": false,
    "scrolled": true
   },
   "outputs": [
    {
     "data": {
      "text/plain": [
       "[[5, 2],\n",
       " [2, 4],\n",
       " [5, 1],\n",
       " [3, 6],\n",
       " [4, 0],\n",
       " [2, 2],\n",
       " [3, 4],\n",
       " [5, 4],\n",
       " [4, 3],\n",
       " [4, 5],\n",
       " [0, 5],\n",
       " [6, 0],\n",
       " [5, 6],\n",
       " [3, 0],\n",
       " [1, 2],\n",
       " [4, 1],\n",
       " [3, 5],\n",
       " [1, 6],\n",
       " [1, 4],\n",
       " [4, 2],\n",
       " [1, 1],\n",
       " [0, 3],\n",
       " [4, 4],\n",
       " [1, 5],\n",
       " [0, 6],\n",
       " [2, 3],\n",
       " [6, 1],\n",
       " [0, 0],\n",
       " [6, 5],\n",
       " [1, 0],\n",
       " [3, 1],\n",
       " [2, 5],\n",
       " [5, 5],\n",
       " [5, 3],\n",
       " [3, 2],\n",
       " [6, 3],\n",
       " [0, 4],\n",
       " [0, 1],\n",
       " [4, 6],\n",
       " [0, 2],\n",
       " [2, 1],\n",
       " [2, 6],\n",
       " [6, 2],\n",
       " [6, 6],\n",
       " [5, 0],\n",
       " [6, 4],\n",
       " [2, 0],\n",
       " [3, 3],\n",
       " [1, 3]]"
      ]
     },
     "execution_count": 29,
     "metadata": {},
     "output_type": "execute_result"
    }
   ],
   "source": [
    "pos()\n"
   ]
  },
  {
   "cell_type": "code",
   "execution_count": 75,
   "metadata": {
    "collapsed": false
   },
   "outputs": [],
   "source": [
    "def cases_vides():\n",
    "    vide=[]\n",
    "    position=pos()\n",
    "    i=0\n",
    "    while (i<24):\n",
    "        vide.append(position[i])\n",
    "        i=i+1\n",
    "        \n",
    "    return(vide)\n",
    "    \n",
    "\n"
   ]
  },
  {
   "cell_type": "code",
   "execution_count": 79,
   "metadata": {
    "collapsed": false
   },
   "outputs": [
    {
     "data": {
      "text/plain": [
       "[[0, 6],\n",
       " [5, 3],\n",
       " [2, 3],\n",
       " [1, 2],\n",
       " [0, 3],\n",
       " [6, 2],\n",
       " [6, 5],\n",
       " [5, 0],\n",
       " [0, 0],\n",
       " [5, 1],\n",
       " [6, 4],\n",
       " [2, 4],\n",
       " [1, 3],\n",
       " [3, 4],\n",
       " [1, 6],\n",
       " [4, 3],\n",
       " [3, 6],\n",
       " [2, 2],\n",
       " [6, 6],\n",
       " [3, 2],\n",
       " [6, 0],\n",
       " [3, 0],\n",
       " [2, 6],\n",
       " [4, 2]]"
      ]
     },
     "execution_count": 79,
     "metadata": {},
     "output_type": "execute_result"
    }
   ],
   "source": [
    "cases_vides()"
   ]
  },
  {
   "cell_type": "code",
   "execution_count": 77,
   "metadata": {
    "collapsed": false
   },
   "outputs": [
    {
     "data": {
      "text/plain": [
       "24"
      ]
     },
     "execution_count": 77,
     "metadata": {},
     "output_type": "execute_result"
    }
   ],
   "source": [
    "len(cases_vides())"
   ]
  },
  {
   "cell_type": "code",
   "execution_count": 90,
   "metadata": {
    "collapsed": false
   },
   "outputs": [],
   "source": [
    "def matrice_cases_vides():\n",
    "    cases=cases_vides()\n",
    "    for k in cases:\n",
    "        [a,b]=k\n",
    "        matrice[a][b]=0\n",
    "        \n",
    "    return(matrice)\n",
    "\n",
    "        "
   ]
  },
  {
   "cell_type": "code",
   "execution_count": 86,
   "metadata": {
    "collapsed": false
   },
   "outputs": [
    {
     "data": {
      "text/plain": [
       "array([[ 0.,  0.,  1.,  0.,  1.,  1.,  0.],\n",
       "       [ 0.,  1.,  0.,  1.,  0.,  0.,  1.],\n",
       "       [ 0.,  1.,  1.,  0.,  0.,  0.,  1.],\n",
       "       [ 0.,  1.,  0.,  1.,  1.,  1.,  1.],\n",
       "       [ 0.,  0.,  1.,  1.,  0.,  1.,  1.],\n",
       "       [ 0.,  0.,  1.,  0.,  1.,  0.,  0.],\n",
       "       [ 0.,  1.,  0.,  1.,  1.,  1.,  1.]])"
      ]
     },
     "execution_count": 86,
     "metadata": {},
     "output_type": "execute_result"
    }
   ],
   "source": [
    "matrice_cases_vides()"
   ]
  },
  {
   "cell_type": "code",
   "execution_count": 97,
   "metadata": {
    "collapsed": false
   },
   "outputs": [
    {
     "data": {
      "text/plain": [
       "(array([0, 0, 0, 1, 1, 1, 2, 2, 2, 3, 3, 3, 3, 3, 4, 4, 4, 4, 5, 5, 6, 6, 6,\n",
       "        6, 6]),\n",
       " array([2, 4, 5, 1, 3, 6, 1, 2, 6, 1, 3, 4, 5, 6, 2, 3, 5, 6, 2, 4, 1, 3, 4,\n",
       "        5, 6]))"
      ]
     },
     "execution_count": 97,
     "metadata": {},
     "output_type": "execute_result"
    }
   ],
   "source": [
    "x=np.where(matrice == 1)\n",
    "x"
   ]
  },
  {
   "cell_type": "code",
   "execution_count": 99,
   "metadata": {
    "collapsed": false
   },
   "outputs": [
    {
     "ename": "ValueError",
     "evalue": "a must be 1-dimensional",
     "output_type": "error",
     "traceback": [
      "\u001b[0;31m---------------------------------------------------------------------------\u001b[0m",
      "\u001b[0;31mValueError\u001b[0m                                Traceback (most recent call last)",
      "\u001b[0;32m<ipython-input-99-bb5ab0a47ab2>\u001b[0m in \u001b[0;36m<module>\u001b[0;34m()\u001b[0m\n\u001b[1;32m      3\u001b[0m     \u001b[0;32mfor\u001b[0m \u001b[0mj\u001b[0m \u001b[0;32min\u001b[0m \u001b[0mx\u001b[0m\u001b[0;34m[\u001b[0m\u001b[0;36m1\u001b[0m\u001b[0;34m]\u001b[0m\u001b[0;34m:\u001b[0m\u001b[0;34m\u001b[0m\u001b[0m\n\u001b[1;32m      4\u001b[0m         \u001b[0mposi_1\u001b[0m\u001b[0;34m.\u001b[0m\u001b[0mappend\u001b[0m\u001b[0;34m(\u001b[0m\u001b[0;34m(\u001b[0m\u001b[0mi\u001b[0m\u001b[0;34m,\u001b[0m\u001b[0mj\u001b[0m\u001b[0;34m)\u001b[0m\u001b[0;34m)\u001b[0m\u001b[0;34m\u001b[0m\u001b[0m\n\u001b[0;32m----> 5\u001b[0;31m \u001b[0mdeux\u001b[0m \u001b[0;34m=\u001b[0m \u001b[0mnp\u001b[0m\u001b[0;34m.\u001b[0m\u001b[0mrandom\u001b[0m\u001b[0;34m.\u001b[0m\u001b[0mchoice\u001b[0m\u001b[0;34m(\u001b[0m\u001b[0mposi_1\u001b[0m\u001b[0;34m)\u001b[0m\u001b[0;34m\u001b[0m\u001b[0m\n\u001b[0m\u001b[1;32m      6\u001b[0m \u001b[0mprint\u001b[0m \u001b[0;34m(\u001b[0m\u001b[0mdeux\u001b[0m\u001b[0;34m)\u001b[0m\u001b[0;34m\u001b[0m\u001b[0m\n",
      "\u001b[0;32mmtrand.pyx\u001b[0m in \u001b[0;36mmtrand.RandomState.choice (numpy/random/mtrand/mtrand.c:17151)\u001b[0;34m()\u001b[0m\n",
      "\u001b[0;31mValueError\u001b[0m: a must be 1-dimensional"
     ]
    }
   ],
   "source": [
    "posi_1=[]\n",
    "for i in x[0]:\n",
    "    for j in x[1]:\n",
    "        posi_1.append((i,j))\n",
    "deux = np.random.choice(posi_1)\n",
    "print (deux)"
   ]
  },
  {
   "cell_type": "code",
   "execution_count": null,
   "metadata": {
    "collapsed": true
   },
   "outputs": [],
   "source": []
  }
 ],
 "metadata": {
  "kernelspec": {
   "display_name": "Python 3",
   "language": "python",
   "name": "python3"
  },
  "language_info": {
   "codemirror_mode": {
    "name": "ipython",
    "version": 3
   },
   "file_extension": ".py",
   "mimetype": "text/x-python",
   "name": "python",
   "nbconvert_exporter": "python",
   "pygments_lexer": "ipython3",
   "version": "3.4.2"
  }
 },
 "nbformat": 4,
 "nbformat_minor": 0
}
