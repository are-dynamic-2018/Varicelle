{
 "cells": [
  {
   "cell_type": "markdown",
   "metadata": {},
   "source": [
    "# Simulation 1 varicelle"
   ]
  },
  {
   "cell_type": "code",
   "execution_count": 1,
   "metadata": {
    "collapsed": true
   },
   "outputs": [],
   "source": [
    "import numpy as np\n",
    "import matplotlib.pyplot as plt"
   ]
  },
  {
   "cell_type": "markdown",
   "metadata": {},
   "source": [
    "### Initialisation du système"
   ]
  },
  {
   "cell_type": "code",
   "execution_count": 3,
   "metadata": {
    "collapsed": false
   },
   "outputs": [
    {
     "name": "stdout",
     "output_type": "stream",
     "text": [
      "[[ 0.  0.  0.  0.  0.]\n",
      " [ 0.  0.  0.  0.  0.]\n",
      " [ 0.  0.  0.  0.  0.]\n",
      " [ 0.  0.  0.  0.  0.]\n",
      " [ 0.  0.  0.  0.  0.]]\n"
     ]
    }
   ],
   "source": [
    "eleves = np.zeros([5,5])\n",
    "print (eleves)"
   ]
  },
  {
   "cell_type": "markdown",
   "metadata": {},
   "source": [
    "**On a une matrice de 25 éléments représentant une classe de 25 élèves. Les 0 désignent les élèves sains**"
   ]
  },
  {
   "cell_type": "markdown",
   "metadata": {},
   "source": [
    "### Simulation"
   ]
  },
  {
   "cell_type": "markdown",
   "metadata": {},
   "source": [
    "**Le modèle est simple**: Un élève malade est représenté par l'élément 1. \n",
    "    On va d'abord prendre un élève au hasard et dire qu'il est malade. A chaque itération un autre tombe malade au hasard. On admet que cela est causé par la rencontre entre l'élève initalement malade et un autre élève quelconque de la classe. Dans la simulation, on se rend compte que parfois le nombre de malades ne change pas : c'est parce que la position d'un enfant déjà malade a été tirée. On admet alors qu'à cette itération il n'y a pas eu d'intéractions entre un malade et un sain."
   ]
  },
  {
   "cell_type": "code",
   "execution_count": 4,
   "metadata": {
    "collapsed": true
   },
   "outputs": [],
   "source": [
    "def positions():\n",
    "    position=[]#liste de positions\n",
    "    \n",
    "    for i in range(5):\n",
    "        for j in range(5):\n",
    "            position.append([i,j])\n",
    "            np.random.shuffle(position)\n",
    "    return (position[0])\n",
    "    \n",
    "    "
   ]
  },
  {
   "cell_type": "code",
   "execution_count": 5,
   "metadata": {
    "collapsed": false
   },
   "outputs": [
    {
     "data": {
      "text/plain": [
       "array([0, 1])"
      ]
     },
     "execution_count": 5,
     "metadata": {},
     "output_type": "execute_result"
    }
   ],
   "source": [
    "np.random.randint(5,size=2)"
   ]
  },
  {
   "cell_type": "code",
   "execution_count": 6,
   "metadata": {
    "collapsed": false
   },
   "outputs": [
    {
     "data": {
      "text/plain": [
       "[3, 0]"
      ]
     },
     "execution_count": 6,
     "metadata": {},
     "output_type": "execute_result"
    }
   ],
   "source": [
    "positions()"
   ]
  },
  {
   "cell_type": "code",
   "execution_count": 7,
   "metadata": {
    "collapsed": true
   },
   "outputs": [],
   "source": [
    "def premier_etat():\n",
    "    position=positions()\n",
    "    k=position[0]\n",
    "    l=position[1]\n",
    "    eleves[k][l]=1\n",
    "    return (eleves, position)\n"
   ]
  },
  {
   "cell_type": "code",
   "execution_count": 8,
   "metadata": {
    "collapsed": false
   },
   "outputs": [
    {
     "data": {
      "text/plain": [
       "(array([[ 0.,  0.,  0.,  0.,  0.],\n",
       "        [ 0.,  0.,  0.,  0.,  0.],\n",
       "        [ 0.,  0.,  0.,  1.,  0.],\n",
       "        [ 0.,  0.,  0.,  0.,  0.],\n",
       "        [ 0.,  0.,  0.,  0.,  0.]]), [2, 3])"
      ]
     },
     "execution_count": 8,
     "metadata": {},
     "output_type": "execute_result"
    }
   ],
   "source": [
    "premier_etat()\n"
   ]
  },
  {
   "cell_type": "markdown",
   "metadata": {},
   "source": [
    "Dans cet exemple, au bout de la 50ème itération, **20 enfants sur 25** ont attrapé la varicelle."
   ]
  },
  {
   "cell_type": "code",
   "execution_count": 9,
   "metadata": {
    "collapsed": true
   },
   "outputs": [],
   "source": [
    "def simulation():\n",
    "    x=0\n",
    "    while (x<25):\n",
    "        new_premier_etat=premier_etat()\n",
    "        print(new_premier_etat)\n",
    "        x+=1\n",
    "    return(new_premier_etat)\n",
    "        "
   ]
  },
  {
   "cell_type": "code",
   "execution_count": 10,
   "metadata": {
    "collapsed": false
   },
   "outputs": [
    {
     "name": "stdout",
     "output_type": "stream",
     "text": [
      "(array([[ 0.,  0.,  0.,  0.,  1.],\n",
      "       [ 0.,  0.,  0.,  0.,  0.],\n",
      "       [ 0.,  0.,  0.,  1.,  0.],\n",
      "       [ 0.,  0.,  0.,  0.,  0.],\n",
      "       [ 0.,  0.,  0.,  0.,  0.]]), [0, 4])\n",
      "(array([[ 0.,  0.,  0.,  0.,  1.],\n",
      "       [ 0.,  0.,  0.,  0.,  0.],\n",
      "       [ 0.,  0.,  0.,  1.,  0.],\n",
      "       [ 0.,  0.,  0.,  0.,  0.],\n",
      "       [ 0.,  0.,  0.,  0.,  0.]]), [0, 4])\n",
      "(array([[ 0.,  0.,  0.,  0.,  1.],\n",
      "       [ 0.,  0.,  0.,  0.,  0.],\n",
      "       [ 0.,  0.,  0.,  1.,  0.],\n",
      "       [ 0.,  0.,  0.,  0.,  0.],\n",
      "       [ 0.,  0.,  0.,  0.,  0.]]), [0, 4])\n",
      "(array([[ 0.,  0.,  0.,  1.,  1.],\n",
      "       [ 0.,  0.,  0.,  0.,  0.],\n",
      "       [ 0.,  0.,  0.,  1.,  0.],\n",
      "       [ 0.,  0.,  0.,  0.,  0.],\n",
      "       [ 0.,  0.,  0.,  0.,  0.]]), [0, 3])\n",
      "(array([[ 0.,  0.,  0.,  1.,  1.],\n",
      "       [ 0.,  0.,  0.,  0.,  0.],\n",
      "       [ 0.,  0.,  0.,  1.,  0.],\n",
      "       [ 1.,  0.,  0.,  0.,  0.],\n",
      "       [ 0.,  0.,  0.,  0.,  0.]]), [3, 0])\n",
      "(array([[ 0.,  0.,  0.,  1.,  1.],\n",
      "       [ 0.,  0.,  0.,  0.,  0.],\n",
      "       [ 0.,  0.,  0.,  1.,  0.],\n",
      "       [ 1.,  0.,  0.,  0.,  0.],\n",
      "       [ 1.,  0.,  0.,  0.,  0.]]), [4, 0])\n",
      "(array([[ 0.,  0.,  0.,  1.,  1.],\n",
      "       [ 0.,  0.,  0.,  0.,  0.],\n",
      "       [ 0.,  0.,  0.,  1.,  0.],\n",
      "       [ 1.,  0.,  0.,  0.,  0.],\n",
      "       [ 1.,  0.,  0.,  1.,  0.]]), [4, 3])\n",
      "(array([[ 0.,  0.,  0.,  1.,  1.],\n",
      "       [ 0.,  0.,  0.,  0.,  0.],\n",
      "       [ 0.,  0.,  0.,  1.,  0.],\n",
      "       [ 1.,  0.,  0.,  0.,  0.],\n",
      "       [ 1.,  1.,  0.,  1.,  0.]]), [4, 1])\n",
      "(array([[ 0.,  0.,  0.,  1.,  1.],\n",
      "       [ 0.,  0.,  0.,  1.,  0.],\n",
      "       [ 0.,  0.,  0.,  1.,  0.],\n",
      "       [ 1.,  0.,  0.,  0.,  0.],\n",
      "       [ 1.,  1.,  0.,  1.,  0.]]), [1, 3])\n",
      "(array([[ 0.,  0.,  0.,  1.,  1.],\n",
      "       [ 0.,  0.,  0.,  1.,  1.],\n",
      "       [ 0.,  0.,  0.,  1.,  0.],\n",
      "       [ 1.,  0.,  0.,  0.,  0.],\n",
      "       [ 1.,  1.,  0.,  1.,  0.]]), [1, 4])\n",
      "(array([[ 0.,  0.,  0.,  1.,  1.],\n",
      "       [ 0.,  0.,  0.,  1.,  1.],\n",
      "       [ 0.,  0.,  0.,  1.,  0.],\n",
      "       [ 1.,  0.,  0.,  0.,  0.],\n",
      "       [ 1.,  1.,  0.,  1.,  0.]]), [2, 3])\n",
      "(array([[ 0.,  0.,  0.,  1.,  1.],\n",
      "       [ 1.,  0.,  0.,  1.,  1.],\n",
      "       [ 0.,  0.,  0.,  1.,  0.],\n",
      "       [ 1.,  0.,  0.,  0.,  0.],\n",
      "       [ 1.,  1.,  0.,  1.,  0.]]), [1, 0])\n",
      "(array([[ 0.,  1.,  0.,  1.,  1.],\n",
      "       [ 1.,  0.,  0.,  1.,  1.],\n",
      "       [ 0.,  0.,  0.,  1.,  0.],\n",
      "       [ 1.,  0.,  0.,  0.,  0.],\n",
      "       [ 1.,  1.,  0.,  1.,  0.]]), [0, 1])\n",
      "(array([[ 0.,  1.,  0.,  1.,  1.],\n",
      "       [ 1.,  0.,  0.,  1.,  1.],\n",
      "       [ 0.,  0.,  0.,  1.,  0.],\n",
      "       [ 1.,  0.,  0.,  0.,  0.],\n",
      "       [ 1.,  1.,  0.,  1.,  0.]]), [4, 3])\n",
      "(array([[ 0.,  1.,  0.,  1.,  1.],\n",
      "       [ 1.,  0.,  0.,  1.,  1.],\n",
      "       [ 0.,  0.,  0.,  1.,  0.],\n",
      "       [ 1.,  1.,  0.,  0.,  0.],\n",
      "       [ 1.,  1.,  0.,  1.,  0.]]), [3, 1])\n",
      "(array([[ 0.,  1.,  0.,  1.,  1.],\n",
      "       [ 1.,  0.,  0.,  1.,  1.],\n",
      "       [ 0.,  0.,  0.,  1.,  1.],\n",
      "       [ 1.,  1.,  0.,  0.,  0.],\n",
      "       [ 1.,  1.,  0.,  1.,  0.]]), [2, 4])\n",
      "(array([[ 0.,  1.,  0.,  1.,  1.],\n",
      "       [ 1.,  0.,  0.,  1.,  1.],\n",
      "       [ 0.,  0.,  0.,  1.,  1.],\n",
      "       [ 1.,  1.,  0.,  0.,  0.],\n",
      "       [ 1.,  1.,  0.,  1.,  0.]]), [4, 1])\n",
      "(array([[ 0.,  1.,  0.,  1.,  1.],\n",
      "       [ 1.,  0.,  0.,  1.,  1.],\n",
      "       [ 0.,  0.,  0.,  1.,  1.],\n",
      "       [ 1.,  1.,  0.,  0.,  0.],\n",
      "       [ 1.,  1.,  0.,  1.,  0.]]), [3, 0])\n",
      "(array([[ 0.,  1.,  0.,  1.,  1.],\n",
      "       [ 1.,  0.,  0.,  1.,  1.],\n",
      "       [ 0.,  0.,  0.,  1.,  1.],\n",
      "       [ 1.,  1.,  0.,  0.,  0.],\n",
      "       [ 1.,  1.,  0.,  1.,  0.]]), [2, 4])\n",
      "(array([[ 0.,  1.,  0.,  1.,  1.],\n",
      "       [ 1.,  0.,  0.,  1.,  1.],\n",
      "       [ 0.,  0.,  0.,  1.,  1.],\n",
      "       [ 1.,  1.,  0.,  0.,  0.],\n",
      "       [ 1.,  1.,  0.,  1.,  0.]]), [4, 3])\n",
      "(array([[ 0.,  1.,  0.,  1.,  1.],\n",
      "       [ 1.,  0.,  0.,  1.,  1.],\n",
      "       [ 0.,  0.,  0.,  1.,  1.],\n",
      "       [ 1.,  1.,  0.,  0.,  0.],\n",
      "       [ 1.,  1.,  0.,  1.,  0.]]), [4, 1])\n",
      "(array([[ 0.,  1.,  0.,  1.,  1.],\n",
      "       [ 1.,  0.,  0.,  1.,  1.],\n",
      "       [ 0.,  0.,  0.,  1.,  1.],\n",
      "       [ 1.,  1.,  0.,  0.,  0.],\n",
      "       [ 1.,  1.,  0.,  1.,  0.]]), [3, 0])\n",
      "(array([[ 0.,  1.,  0.,  1.,  1.],\n",
      "       [ 1.,  0.,  0.,  1.,  1.],\n",
      "       [ 0.,  0.,  0.,  1.,  1.],\n",
      "       [ 1.,  1.,  0.,  0.,  0.],\n",
      "       [ 1.,  1.,  0.,  1.,  0.]]), [4, 0])\n",
      "(array([[ 0.,  1.,  0.,  1.,  1.],\n",
      "       [ 1.,  0.,  0.,  1.,  1.],\n",
      "       [ 0.,  0.,  0.,  1.,  1.],\n",
      "       [ 1.,  1.,  0.,  0.,  1.],\n",
      "       [ 1.,  1.,  0.,  1.,  0.]]), [3, 4])\n",
      "(array([[ 0.,  1.,  0.,  1.,  1.],\n",
      "       [ 1.,  0.,  0.,  1.,  1.],\n",
      "       [ 0.,  0.,  0.,  1.,  1.],\n",
      "       [ 1.,  1.,  0.,  0.,  1.],\n",
      "       [ 1.,  1.,  0.,  1.,  0.]]), [1, 3])\n"
     ]
    },
    {
     "data": {
      "text/plain": [
       "(array([[ 0.,  1.,  0.,  1.,  1.],\n",
       "        [ 1.,  0.,  0.,  1.,  1.],\n",
       "        [ 0.,  0.,  0.,  1.,  1.],\n",
       "        [ 1.,  1.,  0.,  0.,  1.],\n",
       "        [ 1.,  1.,  0.,  1.,  0.]]), [1, 3])"
      ]
     },
     "execution_count": 10,
     "metadata": {},
     "output_type": "execute_result"
    }
   ],
   "source": [
    "simulation()"
   ]
  },
  {
   "cell_type": "code",
   "execution_count": 11,
   "metadata": {
    "collapsed": false
   },
   "outputs": [
    {
     "name": "stdout",
     "output_type": "stream",
     "text": [
      "[[ 0.  0.  0.  0.  0.  0.  0.]\n",
      " [ 0.  0.  0.  0.  0.  0.  0.]\n",
      " [ 0.  0.  0.  0.  0.  0.  0.]\n",
      " [ 0.  0.  0.  0.  0.  0.  0.]\n",
      " [ 0.  0.  0.  0.  0.  0.  0.]\n",
      " [ 0.  0.  0.  0.  0.  0.  0.]\n",
      " [ 0.  0.  0.  0.  0.  0.  0.]]\n"
     ]
    }
   ],
   "source": [
    "matrice = np.zeros([7,7])\n",
    "print (matrice)"
   ]
  },
  {
   "cell_type": "code",
   "execution_count": 12,
   "metadata": {
    "collapsed": false
   },
   "outputs": [
    {
     "name": "stdout",
     "output_type": "stream",
     "text": [
      "[[ 0.  0.  0.  0.  0.  0.  0.]\n",
      " [ 0.  0.  0.  0.  0.  0.  0.]\n",
      " [ 0.  0.  0.  0.  0.  0.  0.]\n",
      " [ 0.  0.  0.  0.  0.  0.  0.]\n",
      " [ 0.  0.  0.  0.  0.  0.  0.]\n",
      " [ 0.  0.  0.  0.  0.  0.  0.]\n",
      " [ 0.  0.  0.  0.  0.  0.  0.]]\n"
     ]
    }
   ],
   "source": [
    "matrice = np.zeros([7,7])\n",
    "print (matrice)"
   ]
  },
  {
   "cell_type": "code",
   "execution_count": 14,
   "metadata": {
    "collapsed": false
   },
   "outputs": [
    {
     "data": {
      "text/plain": [
       "[0, 4]"
      ]
     },
     "execution_count": 14,
     "metadata": {},
     "output_type": "execute_result"
    }
   ],
   "source": [
    "positions()\n"
   ]
  },
  {
   "cell_type": "code",
   "execution_count": 15,
   "metadata": {
    "collapsed": false
   },
   "outputs": [
    {
     "ename": "SyntaxError",
     "evalue": "invalid syntax (<ipython-input-15-8954d6d57862>, line 6)",
     "output_type": "error",
     "traceback": [
      "\u001b[0;36m  File \u001b[0;32m\"<ipython-input-15-8954d6d57862>\"\u001b[0;36m, line \u001b[0;32m6\u001b[0m\n\u001b[0;31m    if (p not in P and while(x<=24)):\u001b[0m\n\u001b[0m                           ^\u001b[0m\n\u001b[0;31mSyntaxError\u001b[0m\u001b[0;31m:\u001b[0m invalid syntax\n"
     ]
    }
   ],
   "source": [
    "    def cases_vides():\n",
    "        P=[]\n",
    "        x=0\n",
    "        position=positions()\n",
    "        for p in position:\n",
    "             if (p not in P and while(x<=24)):\n",
    "                P.append(p)\n",
    "                x=x+1\n",
    "        return P\n",
    "\n"
   ]
  },
  {
   "cell_type": "code",
   "execution_count": 16,
   "metadata": {
    "collapsed": false
   },
   "outputs": [
    {
     "ename": "NameError",
     "evalue": "name 'cases_vides' is not defined",
     "output_type": "error",
     "traceback": [
      "\u001b[0;31m---------------------------------------------------------------------------\u001b[0m",
      "\u001b[0;31mNameError\u001b[0m                                 Traceback (most recent call last)",
      "\u001b[0;32m<ipython-input-16-1bb4ed3638bb>\u001b[0m in \u001b[0;36m<module>\u001b[0;34m()\u001b[0m\n\u001b[0;32m----> 1\u001b[0;31m \u001b[0mcases_vides\u001b[0m\u001b[0;34m(\u001b[0m\u001b[0;34m)\u001b[0m\u001b[0;34m\u001b[0m\u001b[0m\n\u001b[0m",
      "\u001b[0;31mNameError\u001b[0m: name 'cases_vides' is not defined"
     ]
    }
   ],
   "source": [
    "cases_vides()"
   ]
  },
  {
   "cell_type": "code",
   "execution_count": 17,
   "metadata": {
    "collapsed": false
   },
   "outputs": [
    {
     "ename": "NameError",
     "evalue": "name 'cases_vides' is not defined",
     "output_type": "error",
     "traceback": [
      "\u001b[0;31m---------------------------------------------------------------------------\u001b[0m",
      "\u001b[0;31mNameError\u001b[0m                                 Traceback (most recent call last)",
      "\u001b[0;32m<ipython-input-17-9ff2ae9a3a48>\u001b[0m in \u001b[0;36m<module>\u001b[0;34m()\u001b[0m\n\u001b[0;32m----> 1\u001b[0;31m \u001b[0mlen\u001b[0m\u001b[0;34m(\u001b[0m\u001b[0mcases_vides\u001b[0m\u001b[0;34m(\u001b[0m\u001b[0;34m)\u001b[0m\u001b[0;34m)\u001b[0m\u001b[0;34m\u001b[0m\u001b[0m\n\u001b[0m",
      "\u001b[0;31mNameError\u001b[0m: name 'cases_vides' is not defined"
     ]
    }
   ],
   "source": [
    "len(cases_vides())"
   ]
  },
  {
   "cell_type": "code",
   "execution_count": null,
   "metadata": {
    "collapsed": true
   },
   "outputs": [],
   "source": []
  },
  {
   "cell_type": "code",
   "execution_count": null,
   "metadata": {
    "collapsed": true
   },
   "outputs": [],
   "source": []
  },
  {
   "cell_type": "code",
   "execution_count": null,
   "metadata": {
    "collapsed": true
   },
   "outputs": [],
   "source": []
  },
  {
   "cell_type": "code",
   "execution_count": null,
   "metadata": {
    "collapsed": true
   },
   "outputs": [],
   "source": []
  },
  {
   "cell_type": "code",
   "execution_count": null,
   "metadata": {
    "collapsed": true
   },
   "outputs": [],
   "source": []
  }
 ],
 "metadata": {
  "kernelspec": {
   "display_name": "Python 3",
   "language": "python",
   "name": "python3"
  },
  "language_info": {
   "codemirror_mode": {
    "name": "ipython",
    "version": 3
   },
   "file_extension": ".py",
   "mimetype": "text/x-python",
   "name": "python",
   "nbconvert_exporter": "python",
   "pygments_lexer": "ipython3",
   "version": "3.4.2"
  }
 },
 "nbformat": 4,
 "nbformat_minor": 0
}
