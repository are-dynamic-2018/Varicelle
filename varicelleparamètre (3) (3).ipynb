{
 "cells": [
  {
   "cell_type": "code",
   "execution_count": 303,
   "metadata": {},
   "outputs": [],
   "source": [
    "import numpy as np\n",
    "import matplotlib.pyplot as plt\n",
    "import random\n",
    "import copy"
   ]
  },
  {
   "cell_type": "markdown",
   "metadata": {},
   "source": [
    "# Matrice \"1(=enfants de 2ans sains) et 0(=cases vides)\""
   ]
  },
  {
   "cell_type": "markdown",
   "metadata": {},
   "source": [
    "Pour l'insertion des paramètres, on admet que dans notre classe, il y a 12 élèves de 2-3 ans et 13 élèves de 5-6 ans"
   ]
  },
  {
   "cell_type": "code",
   "execution_count": 305,
   "metadata": {},
   "outputs": [],
   "source": [
    "def pos():\n",
    "    position=[]#liste de positions\n",
    "    \n",
    "    for i in range(7):\n",
    "        for j in range(7):\n",
    "            position.append([i,j])\n",
    "            np.random.shuffle(position)\n",
    "    return (position)"
   ]
  },
  {
   "cell_type": "code",
   "execution_count": 306,
   "metadata": {},
   "outputs": [],
   "source": [
    "def cases_vides():\n",
    "    vide=[]\n",
    "    position=pos()\n",
    "    i=0\n",
    "    while (i<24):\n",
    "        vide.append(position[i])\n",
    "        i=i+1\n",
    "        \n",
    "    return(vide)"
   ]
  },
  {
   "cell_type": "markdown",
   "metadata": {},
   "source": [
    "La fonction qui initialise la matrice avec **12** enfants de **2-3 ans(1)** + **13** enfants de **5-6 ans(2)**, dont un **malade (3)**, les **immunisés (4)** et **24 cases vides (0)**:"
   ]
  },
  {
   "cell_type": "code",
   "execution_count": 405,
   "metadata": {},
   "outputs": [],
   "source": [
    "from random import randrange # pour le tirage : probabilité d'immunisation\n",
    "def initialisation_matrice():\n",
    "    mat=np.ones([7,7])\n",
    "    cases=cases_vides()\n",
    "    \n",
    "    for k in cases:\n",
    "        [a,b]=k\n",
    "        mat[a][b]=0\n",
    "    cases_un = [list(x) for x in np.argwhere(mat == 1)]\n",
    "    \n",
    "    cases_unBis=[]    #pour transformer la liste de listes \"cases_un\" en liste de tuples\n",
    "    for i in cases_un:\n",
    "        i=(i[0],i[1])\n",
    "        cases_unBis.append(i)\n",
    "    \n",
    "    \n",
    "    cinq=[]             # la liste des enfants ayant 5-6 ans\n",
    "    while len(cinq)<13 :\n",
    "        choix=random.choice(cases_unBis)\n",
    "        if choix not in cinq:\n",
    "            cinq.append(choix)\n",
    "            \n",
    "    malade = random.choice(cinq) \n",
    "    mat[malade]=3               # On choisit un enfant de 5ans et on admet qu'il est malade\n",
    "    cinq.remove(malade)\n",
    "    for position in cinq:\n",
    "        mat[position]=2        # On identifie les enfants de 5ans\n",
    "        \n",
    "    immu=[]                    # on choisit au hasard des enfants que l'on considère éligibles à l'immunité \n",
    "    cases_unBis.remove(malade)\n",
    "    while len(immu)<6:\n",
    "        choi=random.choice(cases_unBis)\n",
    "        if choi not in immu :\n",
    "            immu.append(choi)\n",
    "            print(\"{} est éligible à l'immunité\".format(choi))\n",
    "    print(\"*******************\")\n",
    "            \n",
    "    for position in immu :  # Parmis ces enfants éligibles à l'immunité (6), ils sont immunisés selon les probabilités p1 et p2\n",
    "        \n",
    "        p1= randrange(101)\n",
    "        p2= randrange(101)\n",
    "        \n",
    "        if mat[position]==1:\n",
    "            print(\"{}: ({},{})\".format(position,mat[position],p1))\n",
    "            \n",
    "            if p1>0 and p1<=37:\n",
    "                mat[position]=4       \n",
    "        if mat[position]==2:\n",
    "            print(\"{}: ({},{})\".format(position,mat[position],p2))\n",
    "            if p2>37 and p2<=100:\n",
    "                mat[position]=4\n",
    "    return mat\n",
    "    \n",
    "    \n",
    "    \n",
    "    \n",
    "   "
   ]
  },
  {
   "cell_type": "code",
   "execution_count": 404,
   "metadata": {},
   "outputs": [
    {
     "name": "stdout",
     "output_type": "stream",
     "text": [
      "(0, 2) est éligible à l'immunité\n",
      "(1, 3) est éligible à l'immunité\n",
      "(5, 5) est éligible à l'immunité\n",
      "(4, 5) est éligible à l'immunité\n",
      "(0, 0) est éligible à l'immunité\n",
      "(1, 4) est éligible à l'immunité\n",
      "*******************\n",
      "(0, 2): (2.0,97)\n",
      "(1, 3): (1.0,36)\n",
      "(5, 5): (1.0,78)\n",
      "(4, 5): (2.0,63)\n",
      "(0, 0): (2.0,69)\n",
      "(1, 4): (2.0,44)\n"
     ]
    },
    {
     "data": {
      "text/plain": [
       "array([[4., 3., 4., 0., 0., 1., 1.],\n",
       "       [1., 1., 0., 4., 4., 2., 0.],\n",
       "       [0., 0., 0., 0., 2., 1., 2.],\n",
       "       [0., 1., 0., 0., 0., 0., 2.],\n",
       "       [1., 0., 0., 0., 1., 4., 0.],\n",
       "       [0., 0., 2., 1., 0., 1., 0.],\n",
       "       [2., 0., 0., 2., 2., 1., 0.]])"
      ]
     },
     "execution_count": 404,
     "metadata": {},
     "output_type": "execute_result"
    }
   ],
   "source": [
    "initialisation_matrice()"
   ]
  },
  {
   "cell_type": "code",
   "execution_count": null,
   "metadata": {},
   "outputs": [],
   "source": []
  }
 ],
 "metadata": {
  "kernelspec": {
   "display_name": "Python 3",
   "language": "python",
   "name": "python3"
  },
  "language_info": {
   "codemirror_mode": {
    "name": "ipython",
    "version": 3
   },
   "file_extension": ".py",
   "mimetype": "text/x-python",
   "name": "python",
   "nbconvert_exporter": "python",
   "pygments_lexer": "ipython3",
   "version": "3.6.4"
  }
 },
 "nbformat": 4,
 "nbformat_minor": 2
}
