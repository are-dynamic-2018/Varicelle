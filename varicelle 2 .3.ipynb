{
 "cells": [
  {
   "cell_type": "markdown",
   "metadata": {},
   "source": [
    "# Simulation 1 varicelle"
   ]
  },
  {
   "cell_type": "code",
   "execution_count": 431,
   "metadata": {
    "collapsed": true
   },
   "outputs": [],
   "source": [
    "import numpy as np\n",
    "import matplotlib.pyplot as plt\n",
    "import random\n",
    "import copy"
   ]
  },
  {
   "cell_type": "markdown",
   "metadata": {},
   "source": [
    "### Initialisation du système"
   ]
  },
  {
   "cell_type": "code",
   "execution_count": 432,
   "metadata": {
    "collapsed": false
   },
   "outputs": [
    {
     "name": "stdout",
     "output_type": "stream",
     "text": [
      "[[ 0.  0.  0.  0.  0.]\n",
      " [ 0.  0.  0.  0.  0.]\n",
      " [ 0.  0.  0.  0.  0.]\n",
      " [ 0.  0.  0.  0.  0.]\n",
      " [ 0.  0.  0.  0.  0.]]\n"
     ]
    }
   ],
   "source": [
    "eleves = np.zeros([5,5])\n",
    "print (eleves)"
   ]
  },
  {
   "cell_type": "markdown",
   "metadata": {},
   "source": [
    "**On a une matrice de 25 éléments représentant une classe de 25 élèves. Les 0 désignent les élèves sains**"
   ]
  },
  {
   "cell_type": "markdown",
   "metadata": {},
   "source": [
    "### Simulation"
   ]
  },
  {
   "cell_type": "markdown",
   "metadata": {},
   "source": [
    "**Le modèle est simple**: Un élève malade est représenté par l'élément 1. \n",
    "    On va d'abord prendre un élève au hasard et dire qu'il est malade. A chaque itération un autre tombe malade au hasard. On admet que cela est causé par la rencontre entre l'élève initalement malade et un autre élève quelconque de la classe. Dans la simulation, on se rend compte que parfois le nombre de malades ne change pas : c'est parce que la position d'un enfant déjà malade a été tirée. On admet alors qu'à cette itération il n'y a pas eu d'intéractions entre un malade et un sain."
   ]
  },
  {
   "cell_type": "code",
   "execution_count": 433,
   "metadata": {
    "collapsed": true
   },
   "outputs": [],
   "source": [
    "def positions():\n",
    "    position=[]#liste de positions\n",
    "    \n",
    "    for i in range(5):\n",
    "        for j in range(5):\n",
    "            position.append([i,j])\n",
    "            np.random.shuffle(position)\n",
    "    return (position[0])\n",
    "    \n",
    "    "
   ]
  },
  {
   "cell_type": "code",
   "execution_count": 434,
   "metadata": {
    "collapsed": false
   },
   "outputs": [
    {
     "data": {
      "text/plain": [
       "array([3, 4])"
      ]
     },
     "execution_count": 434,
     "metadata": {},
     "output_type": "execute_result"
    }
   ],
   "source": [
    "np.random.randint(5,size=2)"
   ]
  },
  {
   "cell_type": "code",
   "execution_count": 435,
   "metadata": {
    "collapsed": false
   },
   "outputs": [
    {
     "data": {
      "text/plain": [
       "[2, 3]"
      ]
     },
     "execution_count": 435,
     "metadata": {},
     "output_type": "execute_result"
    }
   ],
   "source": [
    "positions()"
   ]
  },
  {
   "cell_type": "code",
   "execution_count": 436,
   "metadata": {
    "collapsed": true
   },
   "outputs": [],
   "source": [
    "def premier_etat():\n",
    "    position=positions()\n",
    "    k=position[0]\n",
    "    l=position[1]\n",
    "    eleves[k][l]=1\n",
    "    return (eleves, position)\n"
   ]
  },
  {
   "cell_type": "code",
   "execution_count": 437,
   "metadata": {
    "collapsed": false
   },
   "outputs": [
    {
     "data": {
      "text/plain": [
       "(array([[ 0.,  0.,  0.,  0.,  0.],\n",
       "        [ 1.,  0.,  0.,  0.,  0.],\n",
       "        [ 0.,  0.,  0.,  0.,  0.],\n",
       "        [ 0.,  0.,  0.,  0.,  0.],\n",
       "        [ 0.,  0.,  0.,  0.,  0.]]), [1, 0])"
      ]
     },
     "execution_count": 437,
     "metadata": {},
     "output_type": "execute_result"
    }
   ],
   "source": [
    "premier_etat()\n"
   ]
  },
  {
   "cell_type": "markdown",
   "metadata": {},
   "source": [
    "Dans cet exemple, au bout de la 50ème itération, **20 enfants sur 25** ont attrapé la varicelle."
   ]
  },
  {
   "cell_type": "code",
   "execution_count": 438,
   "metadata": {
    "collapsed": true
   },
   "outputs": [],
   "source": [
    "def simulation():\n",
    "    x=0\n",
    "    while (x<25):\n",
    "        new_premier_etat=premier_etat()\n",
    "        print(new_premier_etat)\n",
    "        x+=1\n",
    "    return(new_premier_etat)\n",
    "        "
   ]
  },
  {
   "cell_type": "code",
   "execution_count": 439,
   "metadata": {
    "collapsed": true
   },
   "outputs": [
    {
     "name": "stdout",
     "output_type": "stream",
     "text": [
      "(array([[ 0.,  0.,  0.,  0.,  0.],\n",
      "       [ 1.,  0.,  0.,  0.,  0.],\n",
      "       [ 0.,  0.,  0.,  0.,  0.],\n",
      "       [ 0.,  0.,  0.,  0.,  1.],\n",
      "       [ 0.,  0.,  0.,  0.,  0.]]), [3, 4])\n",
      "(array([[ 0.,  0.,  0.,  0.,  0.],\n",
      "       [ 1.,  0.,  1.,  0.,  0.],\n",
      "       [ 0.,  0.,  0.,  0.,  0.],\n",
      "       [ 0.,  0.,  0.,  0.,  1.],\n",
      "       [ 0.,  0.,  0.,  0.,  0.]]), [1, 2])\n",
      "(array([[ 0.,  1.,  0.,  0.,  0.],\n",
      "       [ 1.,  0.,  1.,  0.,  0.],\n",
      "       [ 0.,  0.,  0.,  0.,  0.],\n",
      "       [ 0.,  0.,  0.,  0.,  1.],\n",
      "       [ 0.,  0.,  0.,  0.,  0.]]), [0, 1])\n",
      "(array([[ 0.,  1.,  0.,  0.,  0.],\n",
      "       [ 1.,  0.,  1.,  0.,  0.],\n",
      "       [ 0.,  0.,  0.,  0.,  0.],\n",
      "       [ 0.,  0.,  0.,  0.,  1.],\n",
      "       [ 0.,  0.,  1.,  0.,  0.]]), [4, 2])\n",
      "(array([[ 0.,  1.,  0.,  0.,  0.],\n",
      "       [ 1.,  0.,  1.,  0.,  0.],\n",
      "       [ 0.,  0.,  0.,  0.,  0.],\n",
      "       [ 0.,  0.,  1.,  0.,  1.],\n",
      "       [ 0.,  0.,  1.,  0.,  0.]]), [3, 2])\n",
      "(array([[ 0.,  1.,  0.,  0.,  0.],\n",
      "       [ 1.,  0.,  1.,  0.,  0.],\n",
      "       [ 0.,  0.,  0.,  0.,  0.],\n",
      "       [ 1.,  0.,  1.,  0.,  1.],\n",
      "       [ 0.,  0.,  1.,  0.,  0.]]), [3, 0])\n",
      "(array([[ 0.,  1.,  0.,  0.,  0.],\n",
      "       [ 1.,  0.,  1.,  0.,  0.],\n",
      "       [ 0.,  0.,  0.,  0.,  0.],\n",
      "       [ 1.,  0.,  1.,  0.,  1.],\n",
      "       [ 0.,  0.,  1.,  0.,  0.]]), [4, 2])\n",
      "(array([[ 0.,  1.,  0.,  0.,  0.],\n",
      "       [ 1.,  0.,  1.,  0.,  0.],\n",
      "       [ 0.,  0.,  0.,  0.,  0.],\n",
      "       [ 1.,  0.,  1.,  0.,  1.],\n",
      "       [ 0.,  0.,  1.,  1.,  0.]]), [4, 3])\n",
      "(array([[ 0.,  1.,  0.,  0.,  0.],\n",
      "       [ 1.,  1.,  1.,  0.,  0.],\n",
      "       [ 0.,  0.,  0.,  0.,  0.],\n",
      "       [ 1.,  0.,  1.,  0.,  1.],\n",
      "       [ 0.,  0.,  1.,  1.,  0.]]), [1, 1])\n",
      "(array([[ 0.,  1.,  0.,  0.,  0.],\n",
      "       [ 1.,  1.,  1.,  0.,  0.],\n",
      "       [ 0.,  0.,  0.,  0.,  0.],\n",
      "       [ 1.,  0.,  1.,  0.,  1.],\n",
      "       [ 0.,  0.,  1.,  1.,  0.]]), [3, 0])\n",
      "(array([[ 0.,  1.,  0.,  0.,  0.],\n",
      "       [ 1.,  1.,  1.,  0.,  0.],\n",
      "       [ 0.,  0.,  0.,  0.,  0.],\n",
      "       [ 1.,  0.,  1.,  1.,  1.],\n",
      "       [ 0.,  0.,  1.,  1.,  0.]]), [3, 3])\n",
      "(array([[ 0.,  1.,  1.,  0.,  0.],\n",
      "       [ 1.,  1.,  1.,  0.,  0.],\n",
      "       [ 0.,  0.,  0.,  0.,  0.],\n",
      "       [ 1.,  0.,  1.,  1.,  1.],\n",
      "       [ 0.,  0.,  1.,  1.,  0.]]), [0, 2])\n",
      "(array([[ 0.,  1.,  1.,  0.,  0.],\n",
      "       [ 1.,  1.,  1.,  0.,  0.],\n",
      "       [ 0.,  0.,  0.,  0.,  0.],\n",
      "       [ 1.,  0.,  1.,  1.,  1.],\n",
      "       [ 0.,  0.,  1.,  1.,  0.]]), [1, 2])\n",
      "(array([[ 0.,  1.,  1.,  0.,  0.],\n",
      "       [ 1.,  1.,  1.,  0.,  0.],\n",
      "       [ 0.,  0.,  0.,  0.,  0.],\n",
      "       [ 1.,  0.,  1.,  1.,  1.],\n",
      "       [ 0.,  0.,  1.,  1.,  0.]]), [1, 0])\n",
      "(array([[ 0.,  1.,  1.,  0.,  0.],\n",
      "       [ 1.,  1.,  1.,  0.,  0.],\n",
      "       [ 0.,  0.,  0.,  0.,  0.],\n",
      "       [ 1.,  0.,  1.,  1.,  1.],\n",
      "       [ 0.,  0.,  1.,  1.,  0.]]), [3, 4])\n",
      "(array([[ 0.,  1.,  1.,  1.,  0.],\n",
      "       [ 1.,  1.,  1.,  0.,  0.],\n",
      "       [ 0.,  0.,  0.,  0.,  0.],\n",
      "       [ 1.,  0.,  1.,  1.,  1.],\n",
      "       [ 0.,  0.,  1.,  1.,  0.]]), [0, 3])\n",
      "(array([[ 0.,  1.,  1.,  1.,  0.],\n",
      "       [ 1.,  1.,  1.,  0.,  0.],\n",
      "       [ 0.,  0.,  0.,  0.,  0.],\n",
      "       [ 1.,  0.,  1.,  1.,  1.],\n",
      "       [ 0.,  0.,  1.,  1.,  0.]]), [0, 2])\n",
      "(array([[ 0.,  1.,  1.,  1.,  0.],\n",
      "       [ 1.,  1.,  1.,  0.,  0.],\n",
      "       [ 0.,  0.,  0.,  0.,  0.],\n",
      "       [ 1.,  0.,  1.,  1.,  1.],\n",
      "       [ 0.,  0.,  1.,  1.,  0.]]), [4, 2])\n",
      "(array([[ 0.,  1.,  1.,  1.,  0.],\n",
      "       [ 1.,  1.,  1.,  0.,  0.],\n",
      "       [ 1.,  0.,  0.,  0.,  0.],\n",
      "       [ 1.,  0.,  1.,  1.,  1.],\n",
      "       [ 0.,  0.,  1.,  1.,  0.]]), [2, 0])\n",
      "(array([[ 0.,  1.,  1.,  1.,  0.],\n",
      "       [ 1.,  1.,  1.,  0.,  0.],\n",
      "       [ 1.,  0.,  0.,  0.,  0.],\n",
      "       [ 1.,  0.,  1.,  1.,  1.],\n",
      "       [ 0.,  0.,  1.,  1.,  0.]]), [3, 4])\n",
      "(array([[ 0.,  1.,  1.,  1.,  0.],\n",
      "       [ 1.,  1.,  1.,  0.,  0.],\n",
      "       [ 1.,  0.,  0.,  0.,  0.],\n",
      "       [ 1.,  0.,  1.,  1.,  1.],\n",
      "       [ 0.,  0.,  1.,  1.,  0.]]), [1, 0])\n",
      "(array([[ 0.,  1.,  1.,  1.,  0.],\n",
      "       [ 1.,  1.,  1.,  0.,  0.],\n",
      "       [ 1.,  0.,  0.,  0.,  0.],\n",
      "       [ 1.,  0.,  1.,  1.,  1.],\n",
      "       [ 0.,  0.,  1.,  1.,  0.]]), [1, 0])\n",
      "(array([[ 0.,  1.,  1.,  1.,  0.],\n",
      "       [ 1.,  1.,  1.,  0.,  0.],\n",
      "       [ 1.,  0.,  0.,  0.,  0.],\n",
      "       [ 1.,  0.,  1.,  1.,  1.],\n",
      "       [ 0.,  0.,  1.,  1.,  0.]]), [3, 4])\n",
      "(array([[ 0.,  1.,  1.,  1.,  0.],\n",
      "       [ 1.,  1.,  1.,  0.,  0.],\n",
      "       [ 1.,  0.,  0.,  0.,  0.],\n",
      "       [ 1.,  0.,  1.,  1.,  1.],\n",
      "       [ 0.,  0.,  1.,  1.,  0.]]), [1, 1])\n",
      "(array([[ 0.,  1.,  1.,  1.,  0.],\n",
      "       [ 1.,  1.,  1.,  0.,  1.],\n",
      "       [ 1.,  0.,  0.,  0.,  0.],\n",
      "       [ 1.,  0.,  1.,  1.,  1.],\n",
      "       [ 0.,  0.,  1.,  1.,  0.]]), [1, 4])\n"
     ]
    },
    {
     "data": {
      "text/plain": [
       "(array([[ 0.,  1.,  1.,  1.,  0.],\n",
       "        [ 1.,  1.,  1.,  0.,  1.],\n",
       "        [ 1.,  0.,  0.,  0.,  0.],\n",
       "        [ 1.,  0.,  1.,  1.,  1.],\n",
       "        [ 0.,  0.,  1.,  1.,  0.]]), [1, 4])"
      ]
     },
     "execution_count": 439,
     "metadata": {},
     "output_type": "execute_result"
    }
   ],
   "source": [
    "simulation()"
   ]
  },
  {
   "cell_type": "code",
   "execution_count": 440,
   "metadata": {
    "collapsed": false
   },
   "outputs": [
    {
     "name": "stdout",
     "output_type": "stream",
     "text": [
      "[[ 0.  0.  0.  0.  0.  0.  0.]\n",
      " [ 0.  0.  0.  0.  0.  0.  0.]\n",
      " [ 0.  0.  0.  0.  0.  0.  0.]\n",
      " [ 0.  0.  0.  0.  0.  0.  0.]\n",
      " [ 0.  0.  0.  0.  0.  0.  0.]\n",
      " [ 0.  0.  0.  0.  0.  0.  0.]\n",
      " [ 0.  0.  0.  0.  0.  0.  0.]]\n"
     ]
    }
   ],
   "source": [
    "matrice = np.zeros([7,7])\n",
    "print (matrice)"
   ]
  },
  {
   "cell_type": "code",
   "execution_count": 441,
   "metadata": {
    "collapsed": false
   },
   "outputs": [
    {
     "name": "stdout",
     "output_type": "stream",
     "text": [
      "[[ 1.  1.  1.  1.  1.  1.  1.]\n",
      " [ 1.  1.  1.  1.  1.  1.  1.]\n",
      " [ 1.  1.  1.  1.  1.  1.  1.]\n",
      " [ 1.  1.  1.  1.  1.  1.  1.]\n",
      " [ 1.  1.  1.  1.  1.  1.  1.]\n",
      " [ 1.  1.  1.  1.  1.  1.  1.]\n",
      " [ 1.  1.  1.  1.  1.  1.  1.]]\n"
     ]
    }
   ],
   "source": [
    "matrice = np.ones([7,7])\n",
    "print (matrice)"
   ]
  },
  {
   "cell_type": "code",
   "execution_count": 442,
   "metadata": {
    "collapsed": true
   },
   "outputs": [],
   "source": [
    "def pos():\n",
    "    position=[]#liste de positions\n",
    "    \n",
    "    for i in range(7):\n",
    "        for j in range(7):\n",
    "            position.append([i,j])\n",
    "            np.random.shuffle(position)\n",
    "    return (position)"
   ]
  },
  {
   "cell_type": "code",
   "execution_count": 443,
   "metadata": {
    "collapsed": false,
    "scrolled": true
   },
   "outputs": [
    {
     "data": {
      "text/plain": [
       "[[5, 3],\n",
       " [5, 2],\n",
       " [4, 3],\n",
       " [3, 2],\n",
       " [6, 0],\n",
       " [5, 6],\n",
       " [1, 0],\n",
       " [1, 4],\n",
       " [5, 1],\n",
       " [0, 6],\n",
       " [1, 1],\n",
       " [4, 4],\n",
       " [6, 4],\n",
       " [6, 2],\n",
       " [2, 4],\n",
       " [4, 2],\n",
       " [2, 0],\n",
       " [3, 6],\n",
       " [1, 5],\n",
       " [1, 6],\n",
       " [5, 0],\n",
       " [2, 3],\n",
       " [0, 4],\n",
       " [2, 2],\n",
       " [6, 5],\n",
       " [2, 6],\n",
       " [0, 2],\n",
       " [3, 4],\n",
       " [0, 5],\n",
       " [6, 3],\n",
       " [0, 1],\n",
       " [4, 6],\n",
       " [0, 0],\n",
       " [0, 3],\n",
       " [3, 5],\n",
       " [3, 0],\n",
       " [2, 1],\n",
       " [4, 5],\n",
       " [1, 3],\n",
       " [3, 1],\n",
       " [4, 1],\n",
       " [6, 6],\n",
       " [5, 4],\n",
       " [4, 0],\n",
       " [5, 5],\n",
       " [1, 2],\n",
       " [6, 1],\n",
       " [2, 5],\n",
       " [3, 3]]"
      ]
     },
     "execution_count": 443,
     "metadata": {},
     "output_type": "execute_result"
    }
   ],
   "source": [
    "pos()\n"
   ]
  },
  {
   "cell_type": "code",
   "execution_count": 444,
   "metadata": {
    "collapsed": false
   },
   "outputs": [],
   "source": [
    "def cases_vides():\n",
    "    vide=[]\n",
    "    position=pos()\n",
    "    i=0\n",
    "    while (i<24):\n",
    "        vide.append(position[i])\n",
    "        i=i+1\n",
    "        \n",
    "    return(vide)\n",
    "    \n",
    "\n"
   ]
  },
  {
   "cell_type": "code",
   "execution_count": 445,
   "metadata": {
    "collapsed": false,
    "scrolled": false
   },
   "outputs": [
    {
     "data": {
      "text/plain": [
       "[[4, 4],\n",
       " [0, 5],\n",
       " [6, 3],\n",
       " [2, 5],\n",
       " [2, 1],\n",
       " [4, 3],\n",
       " [4, 6],\n",
       " [1, 6],\n",
       " [6, 2],\n",
       " [5, 5],\n",
       " [6, 4],\n",
       " [4, 5],\n",
       " [2, 4],\n",
       " [0, 0],\n",
       " [2, 6],\n",
       " [4, 1],\n",
       " [4, 2],\n",
       " [6, 5],\n",
       " [5, 3],\n",
       " [6, 6],\n",
       " [6, 0],\n",
       " [0, 3],\n",
       " [3, 1],\n",
       " [3, 6]]"
      ]
     },
     "execution_count": 445,
     "metadata": {},
     "output_type": "execute_result"
    }
   ],
   "source": [
    "cases_vides()"
   ]
  },
  {
   "cell_type": "code",
   "execution_count": 446,
   "metadata": {
    "collapsed": false
   },
   "outputs": [
    {
     "data": {
      "text/plain": [
       "24"
      ]
     },
     "execution_count": 446,
     "metadata": {},
     "output_type": "execute_result"
    }
   ],
   "source": [
    "len(cases_vides())"
   ]
  },
  {
   "cell_type": "code",
   "execution_count": 447,
   "metadata": {
    "collapsed": false
   },
   "outputs": [],
   "source": [
    "def matrice_cases_vides():\n",
    "    cases=cases_vides()\n",
    "    for k in cases:\n",
    "        [a,b]=k\n",
    "        matrice[a][b]=0\n",
    "        \n",
    "    return(matrice)\n",
    "\n",
    "        "
   ]
  },
  {
   "cell_type": "code",
   "execution_count": 448,
   "metadata": {
    "collapsed": false
   },
   "outputs": [
    {
     "data": {
      "text/plain": [
       "array([[ 0.,  1.,  0.,  1.,  0.,  1.,  0.],\n",
       "       [ 1.,  0.,  1.,  1.,  1.,  0.,  1.],\n",
       "       [ 0.,  1.,  1.,  1.,  0.,  1.,  0.],\n",
       "       [ 1.,  0.,  0.,  0.,  0.,  1.,  1.],\n",
       "       [ 0.,  0.,  0.,  0.,  1.,  0.,  1.],\n",
       "       [ 0.,  0.,  1.,  0.,  1.,  0.,  1.],\n",
       "       [ 0.,  1.,  0.,  1.,  1.,  1.,  1.]])"
      ]
     },
     "execution_count": 448,
     "metadata": {},
     "output_type": "execute_result"
    }
   ],
   "source": [
    "matrice_cases_vides()"
   ]
  },
  {
   "cell_type": "code",
   "execution_count": 449,
   "metadata": {
    "collapsed": false
   },
   "outputs": [
    {
     "data": {
      "text/plain": [
       "(array([0, 0, 0, 1, 1, 1, 1, 1, 2, 2, 2, 2, 3, 3, 3, 4, 4, 5, 5, 5, 6, 6, 6,\n",
       "        6, 6]),\n",
       " array([1, 3, 5, 0, 2, 3, 4, 6, 1, 2, 3, 5, 0, 5, 6, 4, 6, 2, 4, 6, 1, 3, 4,\n",
       "        5, 6]))"
      ]
     },
     "execution_count": 449,
     "metadata": {},
     "output_type": "execute_result"
    }
   ],
   "source": [
    "x=np.where(matrice == 1)\n",
    "x"
   ]
  },
  {
   "cell_type": "code",
   "execution_count": 450,
   "metadata": {
    "collapsed": false,
    "scrolled": true
   },
   "outputs": [
    {
     "name": "stdout",
     "output_type": "stream",
     "text": [
      "[0, 1, 0, 3, 0, 5, 1, 0, 1, 2, 1, 3, 1, 4, 1, 6, 2, 1, 2, 2, 2, 3, 2, 5, 3, 0, 3, 5, 3, 6, 4, 4, 4, 6, 5, 2, 5, 4, 5, 6, 6, 1, 6, 3, 6, 4, 6, 5, 6, 6]\n"
     ]
    }
   ],
   "source": [
    "posi_1=[]\n",
    "posi_1 = sum(map(list, zip(x[0], x[1])), [])\n",
    "\n",
    "print (posi_1)"
   ]
  },
  {
   "cell_type": "code",
   "execution_count": 451,
   "metadata": {
    "collapsed": false
   },
   "outputs": [
    {
     "name": "stdout",
     "output_type": "stream",
     "text": [
      "[(0, 1), (0, 3), (0, 5), (1, 0), (1, 2), (1, 3), (1, 4), (1, 6), (2, 1), (2, 2), (2, 3), (2, 5), (3, 0), (3, 5), (3, 6), (4, 4), (4, 6), (5, 2), (5, 4), (5, 6), (6, 1), (6, 3), (6, 4), (6, 5), (6, 6)]\n"
     ]
    }
   ],
   "source": [
    "deux=[]\n",
    "i=0\n",
    "j=1\n",
    "while i<50 and j<50:\n",
    "        deux.append((posi_1[i],posi_1[j]))\n",
    "        \n",
    "        i+=2\n",
    "        j+=2\n",
    "print (deux)"
   ]
  },
  {
   "cell_type": "code",
   "execution_count": 452,
   "metadata": {
    "collapsed": false
   },
   "outputs": [
    {
     "data": {
      "text/plain": [
       "array([[ 0.,  1.,  0.,  1.,  0.,  1.,  0.],\n",
       "       [ 1.,  0.,  1.,  1.,  1.,  0.,  1.],\n",
       "       [ 0.,  1.,  1.,  1.,  0.,  1.,  0.],\n",
       "       [ 1.,  0.,  0.,  0.,  0.,  1.,  1.],\n",
       "       [ 0.,  0.,  0.,  0.,  1.,  0.,  1.],\n",
       "       [ 0.,  0.,  1.,  0.,  1.,  0.,  1.],\n",
       "       [ 0.,  1.,  0.,  1.,  1.,  1.,  1.]])"
      ]
     },
     "execution_count": 452,
     "metadata": {},
     "output_type": "execute_result"
    }
   ],
   "source": [
    "matrice"
   ]
  },
  {
   "cell_type": "code",
   "execution_count": 453,
   "metadata": {
    "collapsed": false,
    "scrolled": true
   },
   "outputs": [
    {
     "data": {
      "text/plain": [
       "array([[ 0.,  1.,  0.,  1.,  0.,  1.,  0.],\n",
       "       [ 1.,  0.,  1.,  1.,  1.,  0.,  1.],\n",
       "       [ 0.,  1.,  1.,  1.,  0.,  1.,  0.],\n",
       "       [ 1.,  0.,  0.,  0.,  0.,  1.,  1.],\n",
       "       [ 0.,  0.,  0.,  0.,  1.,  0.,  1.],\n",
       "       [ 0.,  0.,  1.,  0.,  1.,  0.,  1.],\n",
       "       [ 0.,  1.,  0.,  1.,  1.,  1.,  1.]])"
      ]
     },
     "execution_count": 453,
     "metadata": {},
     "output_type": "execute_result"
    }
   ],
   "source": [
    "matrice2=np.copy(matrice)\n",
    "matrice2"
   ]
  },
  {
   "cell_type": "code",
   "execution_count": 454,
   "metadata": {
    "collapsed": false,
    "scrolled": true
   },
   "outputs": [
    {
     "data": {
      "text/plain": [
       "array([[ 0.,  2.,  0.,  1.,  0.,  1.,  0.],\n",
       "       [ 1.,  0.,  1.,  1.,  1.,  0.,  1.],\n",
       "       [ 0.,  1.,  1.,  1.,  0.,  1.,  0.],\n",
       "       [ 1.,  0.,  0.,  0.,  0.,  1.,  1.],\n",
       "       [ 0.,  0.,  0.,  0.,  1.,  0.,  1.],\n",
       "       [ 0.,  0.,  1.,  0.,  1.,  0.,  1.],\n",
       "       [ 0.,  1.,  0.,  1.,  1.,  1.,  1.]])"
      ]
     },
     "execution_count": 454,
     "metadata": {},
     "output_type": "execute_result"
    }
   ],
   "source": [
    "deux_r=random.choice(deux)\n",
    "i=deux_r[0]\n",
    "j=deux_r[1]\n",
    "\n",
    "matrice2[i][j]=2\n",
    "matrice2"
   ]
  },
  {
   "cell_type": "code",
   "execution_count": 473,
   "metadata": {
    "collapsed": false
   },
   "outputs": [],
   "source": [
    "def voisin():\n",
    "    elements=[]\n",
    "    voisins={}\n",
    "    for i in range(7):\n",
    "        for j in range(7):\n",
    "            elements.append((i,j))\n",
    "            if (i,j)==(0,0):\n",
    "                voisins[(i,j)]=[(i+1,j),(i,j+1)]\n",
    "            elif (i,j)==(0,6):\n",
    "                voisins[(i,j)]=[(i,j-1),(i+1,j)]\n",
    "            elif (i,j)==(6,0):\n",
    "                voisins[(i,j)]=[(i-1,j),(i,j+1)]\n",
    "            elif (i,j)==(6,6):\n",
    "                voisins[(i,j)]=[(i,j-1),(i-1,j)]\n",
    "                \n",
    "            elif (i==0 and j>=1 and j<=5):\n",
    "                voisins[(i,j)]=[(i+1,j),(i,j+1),(i,j-1)]\n",
    "                \n",
    "                \n",
    "            elif (i==6 and j>=1 and j<=5):\n",
    "                voisins[(i,j)]=[(i-1,j),(i,j+1),(i,j-1)]\n",
    "                \n",
    "                \n",
    "            elif (j==0 and i>=1 and i<=5):\n",
    "                voisins[(i,j)]=[(i+1,j),(i,j+1),(i-1,j)]\n",
    "            \n",
    "            elif (j==6 and i>=1 and i<=5):\n",
    "                voisins[(i,j)]=[(i+1,j),(i-1,j),(i,j-1)]\n",
    "            else:\n",
    "                voisins[(i,j)]=[(i+1,j),(i-1,j),(i,j-1),(i,j+1)]\n",
    "    return(voisins)\n",
    "    "
   ]
  },
  {
   "cell_type": "code",
   "execution_count": 474,
   "metadata": {
    "collapsed": false
   },
   "outputs": [
    {
     "data": {
      "text/plain": [
       "{(0, 0): [(1, 0), (0, 1)],\n",
       " (0, 1): [(1, 1), (0, 2), (0, 0)],\n",
       " (0, 2): [(1, 2), (0, 3), (0, 1)],\n",
       " (0, 3): [(1, 3), (0, 4), (0, 2)],\n",
       " (0, 4): [(1, 4), (0, 5), (0, 3)],\n",
       " (0, 5): [(1, 5), (0, 6), (0, 4)],\n",
       " (0, 6): [(0, 5), (1, 6)],\n",
       " (1, 0): [(2, 0), (1, 1), (0, 0)],\n",
       " (1, 1): [(2, 1), (0, 1), (1, 0), (1, 2)],\n",
       " (1, 2): [(2, 2), (0, 2), (1, 1), (1, 3)],\n",
       " (1, 3): [(2, 3), (0, 3), (1, 2), (1, 4)],\n",
       " (1, 4): [(2, 4), (0, 4), (1, 3), (1, 5)],\n",
       " (1, 5): [(2, 5), (0, 5), (1, 4), (1, 6)],\n",
       " (1, 6): [(2, 6), (0, 6), (1, 5)],\n",
       " (2, 0): [(3, 0), (2, 1), (1, 0)],\n",
       " (2, 1): [(3, 1), (1, 1), (2, 0), (2, 2)],\n",
       " (2, 2): [(3, 2), (1, 2), (2, 1), (2, 3)],\n",
       " (2, 3): [(3, 3), (1, 3), (2, 2), (2, 4)],\n",
       " (2, 4): [(3, 4), (1, 4), (2, 3), (2, 5)],\n",
       " (2, 5): [(3, 5), (1, 5), (2, 4), (2, 6)],\n",
       " (2, 6): [(3, 6), (1, 6), (2, 5)],\n",
       " (3, 0): [(4, 0), (3, 1), (2, 0)],\n",
       " (3, 1): [(4, 1), (2, 1), (3, 0), (3, 2)],\n",
       " (3, 2): [(4, 2), (2, 2), (3, 1), (3, 3)],\n",
       " (3, 3): [(4, 3), (2, 3), (3, 2), (3, 4)],\n",
       " (3, 4): [(4, 4), (2, 4), (3, 3), (3, 5)],\n",
       " (3, 5): [(4, 5), (2, 5), (3, 4), (3, 6)],\n",
       " (3, 6): [(4, 6), (2, 6), (3, 5)],\n",
       " (4, 0): [(5, 0), (4, 1), (3, 0)],\n",
       " (4, 1): [(5, 1), (3, 1), (4, 0), (4, 2)],\n",
       " (4, 2): [(5, 2), (3, 2), (4, 1), (4, 3)],\n",
       " (4, 3): [(5, 3), (3, 3), (4, 2), (4, 4)],\n",
       " (4, 4): [(5, 4), (3, 4), (4, 3), (4, 5)],\n",
       " (4, 5): [(5, 5), (3, 5), (4, 4), (4, 6)],\n",
       " (4, 6): [(5, 6), (3, 6), (4, 5)],\n",
       " (5, 0): [(6, 0), (5, 1), (4, 0)],\n",
       " (5, 1): [(6, 1), (4, 1), (5, 0), (5, 2)],\n",
       " (5, 2): [(6, 2), (4, 2), (5, 1), (5, 3)],\n",
       " (5, 3): [(6, 3), (4, 3), (5, 2), (5, 4)],\n",
       " (5, 4): [(6, 4), (4, 4), (5, 3), (5, 5)],\n",
       " (5, 5): [(6, 5), (4, 5), (5, 4), (5, 6)],\n",
       " (5, 6): [(6, 6), (4, 6), (5, 5)],\n",
       " (6, 0): [(5, 0), (6, 1)],\n",
       " (6, 1): [(5, 1), (6, 2), (6, 0)],\n",
       " (6, 2): [(5, 2), (6, 3), (6, 1)],\n",
       " (6, 3): [(5, 3), (6, 4), (6, 2)],\n",
       " (6, 4): [(5, 4), (6, 5), (6, 3)],\n",
       " (6, 5): [(5, 5), (6, 6), (6, 4)],\n",
       " (6, 6): [(6, 5), (5, 6)]}"
      ]
     },
     "execution_count": 474,
     "metadata": {},
     "output_type": "execute_result"
    }
   ],
   "source": [
    "voisin()"
   ]
  },
  {
   "cell_type": "code",
   "execution_count": null,
   "metadata": {
    "collapsed": true
   },
   "outputs": [],
   "source": [
    "def rencontre():\n",
    "    for i in range(7):\n",
    "        for j in range(7):\n",
    "            if ((posi_1[i][j])!=0):\n",
    "               \n",
    "                \n",
    "                \n",
    "                \n",
    "                "
   ]
  }
 ],
 "metadata": {
  "kernelspec": {
   "display_name": "Python 3",
   "language": "python",
   "name": "python3"
  },
  "language_info": {
   "codemirror_mode": {
    "name": "ipython",
    "version": 3
   },
   "file_extension": ".py",
   "mimetype": "text/x-python",
   "name": "python",
   "nbconvert_exporter": "python",
   "pygments_lexer": "ipython3",
   "version": "3.4.2"
  }
 },
 "nbformat": 4,
 "nbformat_minor": 0
}
